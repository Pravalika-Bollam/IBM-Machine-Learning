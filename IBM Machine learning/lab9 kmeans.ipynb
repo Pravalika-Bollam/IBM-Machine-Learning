{
 "cells": [
  {
   "cell_type": "code",
   "execution_count": 89,
   "id": "c29c41b4-57ef-47e9-8419-6aea87e5c900",
   "metadata": {
    "tags": []
   },
   "outputs": [],
   "source": [
    "import pandas as pd"
   ]
  },
  {
   "cell_type": "code",
   "execution_count": 90,
   "id": "cd916757-d9e9-4eef-9a48-ddecf1f30dd2",
   "metadata": {
    "tags": []
   },
   "outputs": [],
   "source": [
    "# Surpress warnings:\n",
    "def warn(*args, **kwargs):\n",
    "    pass\n",
    "import warnings\n",
    "warnings.warn = warn"
   ]
  },
  {
   "cell_type": "code",
   "execution_count": 91,
   "id": "96fc84a5-c554-4d6a-a3ae-3b461a97e2a7",
   "metadata": {
    "tags": []
   },
   "outputs": [],
   "source": [
    "from sklearn.datasets import make_blobs"
   ]
  },
  {
   "cell_type": "code",
   "execution_count": 92,
   "id": "9cdd708d-7463-43aa-967f-bcd8c6e7edfe",
   "metadata": {
    "tags": []
   },
   "outputs": [],
   "source": [
    "import numpy as np\n",
    "np.random.seed(23)"
   ]
  },
  {
   "cell_type": "code",
   "execution_count": 93,
   "id": "5465c1b2-7b82-4c48-bdb2-77f1269557c9",
   "metadata": {
    "tags": []
   },
   "outputs": [],
   "source": [
    "x, y = make_blobs(n_samples = 5000, centers = [[2, 4], [4, 6], [10, 12], [8, 4]], cluster_std = 0.2)"
   ]
  },
  {
   "cell_type": "code",
   "execution_count": 94,
   "id": "f1ca9d33-fc11-46a3-a234-ed0d85a0319c",
   "metadata": {
    "tags": []
   },
   "outputs": [
    {
     "data": {
      "text/plain": [
       "((5000, 2), (5000,))"
      ]
     },
     "execution_count": 94,
     "metadata": {},
     "output_type": "execute_result"
    }
   ],
   "source": [
    "x.shape, y.shape"
   ]
  },
  {
   "cell_type": "code",
   "execution_count": 95,
   "id": "7a41674c-063b-43dd-852c-12224bd7f589",
   "metadata": {
    "tags": []
   },
   "outputs": [
    {
     "data": {
      "text/plain": [
       "array([[1.9607273 , 3.85189233],\n",
       "       [1.95045009, 4.19750879],\n",
       "       [8.2305129 , 4.08715381],\n",
       "       [1.79430322, 4.27443306],\n",
       "       [2.14147691, 3.93884671]])"
      ]
     },
     "execution_count": 95,
     "metadata": {},
     "output_type": "execute_result"
    }
   ],
   "source": [
    "x[:5]"
   ]
  },
  {
   "cell_type": "code",
   "execution_count": 96,
   "id": "e4baa2c3-2399-4dcc-b774-0a3423485787",
   "metadata": {
    "tags": []
   },
   "outputs": [
    {
     "data": {
      "text/plain": [
       "array([0, 0, 3, 0, 0])"
      ]
     },
     "execution_count": 96,
     "metadata": {},
     "output_type": "execute_result"
    }
   ],
   "source": [
    "y[:5]"
   ]
  },
  {
   "cell_type": "code",
   "execution_count": 97,
   "id": "9c709483-c069-4589-b64e-6ca112376ed4",
   "metadata": {
    "tags": []
   },
   "outputs": [],
   "source": [
    "import matplotlib.pyplot as plt"
   ]
  },
  {
   "cell_type": "code",
   "execution_count": 98,
   "id": "ad3084b1-959a-4e9a-9884-eca487ed3f8f",
   "metadata": {
    "tags": []
   },
   "outputs": [
    {
     "data": {
      "text/plain": [
       "<matplotlib.collections.PathCollection at 0x7f5c7b351710>"
      ]
     },
     "execution_count": 98,
     "metadata": {},
     "output_type": "execute_result"
    },
    {
     "data": {
      "image/png": "[encoded data removed]",
      "text/plain": [
       "<Figure size 640x480 with 1 Axes>"
      ]
     },
     "metadata": {},
     "output_type": "display_data"
    }
   ],
   "source": [
    "plt.scatter(x[:, 0], x[:, 1])"
   ]
  },
  {
   "cell_type": "code",
   "execution_count": 99,
   "id": "0e2ca018-9056-40e5-ac2d-80e221ff7746",
   "metadata": {
    "tags": []
   },
   "outputs": [],
   "source": [
    "from sklearn.cluster import KMeans\n",
    "k_means = KMeans(init = 'k-means++', n_init = 12, n_clusters = 4)"
   ]
  },
  {
   "cell_type": "code",
   "execution_count": 100,
   "id": "7645075c-3706-4ec5-96d2-6b00d45a475e",
   "metadata": {
    "tags": []
   },
   "outputs": [
    {
     "data": {
      "text/plain": [
       "KMeans(algorithm='auto', copy_x=True, init='k-means++', max_iter=300,\n",
       "    n_clusters=4, n_init=12, n_jobs=None, precompute_distances='auto',\n",
       "    random_state=None, tol=0.0001, verbose=0)"
      ]
     },
     "execution_count": 100,
     "metadata": {},
     "output_type": "execute_result"
    }
   ],
   "source": [
    "k_means.fit(x, y)"
   ]
  },
  {
   "cell_type": "code",
   "execution_count": 101,
   "id": "645f0321-81d3-4bd5-a607-aa1c996694e4",
   "metadata": {
    "tags": []
   },
   "outputs": [],
   "source": [
    "labels = k_means.labels_"
   ]
  },
  {
   "cell_type": "code",
   "execution_count": 102,
   "id": "d7abfc2c-5276-4e83-aba7-53a4af99ee86",
   "metadata": {
    "tags": []
   },
   "outputs": [
    {
     "data": {
      "text/plain": [
       "(5000,)"
      ]
     },
     "execution_count": 102,
     "metadata": {},
     "output_type": "execute_result"
    }
   ],
   "source": [
    "labels.shape"
   ]
  },
  {
   "cell_type": "code",
   "execution_count": 103,
   "id": "e035e5f2-e634-4d21-8595-80cbe50e8842",
   "metadata": {
    "tags": []
   },
   "outputs": [],
   "source": [
    "cluster_centers = k_means.cluster_centers_"
   ]
  },
  {
   "cell_type": "code",
   "execution_count": 104,
   "id": "3ef6190d-4319-407e-9adc-ae0f9fa3cb61",
   "metadata": {
    "tags": []
   },
   "outputs": [
    {
     "data": {
      "text/plain": [
       "array([[ 7.99949315,  3.99262701],\n",
       "       [ 9.98909364, 12.00767315],\n",
       "       [ 3.98927315,  5.99882277],\n",
       "       [ 1.98912977,  3.99694358]])"
      ]
     },
     "execution_count": 104,
     "metadata": {},
     "output_type": "execute_result"
    }
   ],
   "source": [
    "cluster_centers"
   ]
  },
  {
   "cell_type": "code",
   "execution_count": 105,
   "id": "5f8f4ff2-51d2-4c82-8d5d-46b694e8209e",
   "metadata": {
    "tags": []
   },
   "outputs": [],
   "source": [
    "colors = plt.cm.Spectral(np.linspace(0, 1, len(set(labels))))"
   ]
  },
  {
   "cell_type": "code",
   "execution_count": 106,
   "id": "11534306-20da-463b-91ff-a67684c7c213",
   "metadata": {
    "tags": []
   },
   "outputs": [
    {
     "data": {
      "text/plain": [
       "array([[0.61960784, 0.00392157, 0.25882353, 1.        ],\n",
       "       [0.99346405, 0.74771242, 0.43529412, 1.        ],\n",
       "       [0.74771242, 0.89803922, 0.62745098, 1.        ],\n",
       "       [0.36862745, 0.30980392, 0.63529412, 1.        ]])"
      ]
     },
     "execution_count": 106,
     "metadata": {},
     "output_type": "execute_result"
    }
   ],
   "source": [
    "colors"
   ]
  },
  {
   "cell_type": "code",
   "execution_count": 107,
   "id": "08b7ecc5-29ac-485c-bce4-fd491c9845a1",
   "metadata": {
    "tags": []
   },
   "outputs": [
    {
     "data": {
      "image/png": "[encoded data removed]",
      "text/plain": [
       "<Figure size 1200x600 with 1 Axes>"
      ]
     },
     "metadata": {},
     "output_type": "display_data"
    }
   ],
   "source": [
    "fig = plt.figure(figsize = (12, 6))\n",
    "axes = fig.add_subplot(1, 1, 1)\n",
    "for k, col in zip(range(len( [[2, 4], [4, 6], [10, 12], [8, 4]])), colors):\n",
    "    members = (labels == k)\n",
    "    cluster_center = cluster_centers[k]\n",
    "    axes.plot(x[members, 0], x[members, 1],  markerfacecolor = col , marker = '.')\n",
    "    axes.plot(cluster_center[0], cluster_center[1],'o',  markerfacecolor = col , markeredgecolor = 'k', markersize = 5 )\n",
    "plt.show()\n",
    "    \n"
   ]
  },
  {
   "cell_type": "markdown",
   "id": "da6b41ac-20d1-4456-9095-8a473e24c692",
   "metadata": {},
   "source": [
    "## Customer Segmentation"
   ]
  },
  {
   "cell_type": "code",
   "execution_count": 151,
   "id": "860a2088-3494-4df8-811b-e1b5f7affe35",
   "metadata": {
    "tags": []
   },
   "outputs": [
    {
     "data": {
      "text/html": [
       "<div>\n",
       "<style scoped>\n",
       "    .dataframe tbody tr th:only-of-type {\n",
       "        vertical-align: middle;\n",
       "    }\n",
       "\n",
       "    .dataframe tbody tr th {\n",
       "        vertical-align: top;\n",
       "    }\n",
       "\n",
       "    .dataframe thead th {\n",
       "        text-align: right;\n",
       "    }\n",
       "</style>\n",
       "<table border=\"1\" class=\"dataframe\">\n",
       "  <thead>\n",
       "    <tr style=\"text-align: right;\">\n",
       "      <th></th>\n",
       "      <th>Customer Id</th>\n",
       "      <th>Age</th>\n",
       "      <th>Edu</th>\n",
       "      <th>Years Employed</th>\n",
       "      <th>Income</th>\n",
       "      <th>Card Debt</th>\n",
       "      <th>Other Debt</th>\n",
       "      <th>Defaulted</th>\n",
       "      <th>Address</th>\n",
       "      <th>DebtIncomeRatio</th>\n",
       "    </tr>\n",
       "  </thead>\n",
       "  <tbody>\n",
       "    <tr>\n",
       "      <th>0</th>\n",
       "      <td>1</td>\n",
       "      <td>41</td>\n",
       "      <td>2</td>\n",
       "      <td>6</td>\n",
       "      <td>19</td>\n",
       "      <td>0.124</td>\n",
       "      <td>1.073</td>\n",
       "      <td>0.0</td>\n",
       "      <td>NBA001</td>\n",
       "      <td>6.3</td>\n",
       "    </tr>\n",
       "    <tr>\n",
       "      <th>1</th>\n",
       "      <td>2</td>\n",
       "      <td>47</td>\n",
       "      <td>1</td>\n",
       "      <td>26</td>\n",
       "      <td>100</td>\n",
       "      <td>4.582</td>\n",
       "      <td>8.218</td>\n",
       "      <td>0.0</td>\n",
       "      <td>NBA021</td>\n",
       "      <td>12.8</td>\n",
       "    </tr>\n",
       "    <tr>\n",
       "      <th>2</th>\n",
       "      <td>3</td>\n",
       "      <td>33</td>\n",
       "      <td>2</td>\n",
       "      <td>10</td>\n",
       "      <td>57</td>\n",
       "      <td>6.111</td>\n",
       "      <td>5.802</td>\n",
       "      <td>1.0</td>\n",
       "      <td>NBA013</td>\n",
       "      <td>20.9</td>\n",
       "    </tr>\n",
       "    <tr>\n",
       "      <th>3</th>\n",
       "      <td>4</td>\n",
       "      <td>29</td>\n",
       "      <td>2</td>\n",
       "      <td>4</td>\n",
       "      <td>19</td>\n",
       "      <td>0.681</td>\n",
       "      <td>0.516</td>\n",
       "      <td>0.0</td>\n",
       "      <td>NBA009</td>\n",
       "      <td>6.3</td>\n",
       "    </tr>\n",
       "    <tr>\n",
       "      <th>4</th>\n",
       "      <td>5</td>\n",
       "      <td>47</td>\n",
       "      <td>1</td>\n",
       "      <td>31</td>\n",
       "      <td>253</td>\n",
       "      <td>9.308</td>\n",
       "      <td>8.908</td>\n",
       "      <td>0.0</td>\n",
       "      <td>NBA008</td>\n",
       "      <td>7.2</td>\n",
       "    </tr>\n",
       "  </tbody>\n",
       "</table>\n",
       "</div>"
      ],
      "text/plain": [
       "   Customer Id  Age  Edu  Years Employed  Income  Card Debt  Other Debt  \\\n",
       "0            1   41    2               6      19      0.124       1.073   \n",
       "1            2   47    1              26     100      4.582       8.218   \n",
       "2            3   33    2              10      57      6.111       5.802   \n",
       "3            4   29    2               4      19      0.681       0.516   \n",
       "4            5   47    1              31     253      9.308       8.908   \n",
       "\n",
       "   Defaulted Address  DebtIncomeRatio  \n",
       "0        0.0  NBA001              6.3  \n",
       "1        0.0  NBA021             12.8  \n",
       "2        1.0  NBA013             20.9  \n",
       "3        0.0  NBA009              6.3  \n",
       "4        0.0  NBA008              7.2  "
      ]
     },
     "execution_count": 151,
     "metadata": {},
     "output_type": "execute_result"
    }
   ],
   "source": [
    "cust_df = pd.read_csv(\"https://cf-courses-data.s3.us.cloud-object-storage.appdomain.cloud/IBMDeveloperSkillsNetwork-ML0101EN-SkillsNetwork/labs/Module%204/data/Cust_Segmentation.csv\")\n",
    "cust_df.head()"
   ]
  },
  {
   "cell_type": "code",
   "execution_count": 152,
   "id": "035b31e5-a069-4331-ab7f-21a7920a1b5c",
   "metadata": {
    "tags": []
   },
   "outputs": [],
   "source": [
    "cust_df.drop('Address', axis = 1, inplace = True)"
   ]
  },
  {
   "cell_type": "code",
   "execution_count": 153,
   "id": "d21435e9-c9a3-4be7-871b-caaa4eb5aadf",
   "metadata": {
    "tags": []
   },
   "outputs": [],
   "source": [
    "cust_df.dropna(inplace = True)"
   ]
  },
  {
   "cell_type": "code",
   "execution_count": 154,
   "id": "0c782d0e-87b1-4e06-9d97-a7d66b8940d4",
   "metadata": {
    "tags": []
   },
   "outputs": [
    {
     "data": {
      "text/plain": [
       "Index(['Customer Id', 'Age', 'Edu', 'Years Employed', 'Income', 'Card Debt',\n",
       "       'Other Debt', 'Defaulted', 'DebtIncomeRatio'],\n",
       "      dtype='object')"
      ]
     },
     "execution_count": 154,
     "metadata": {},
     "output_type": "execute_result"
    }
   ],
   "source": [
    "cust_df.columns"
   ]
  },
  {
   "cell_type": "code",
   "execution_count": 155,
   "id": "5870e6a7-6436-43bc-bc66-ce0efdd7e721",
   "metadata": {
    "tags": []
   },
   "outputs": [
    {
     "name": "stdout",
     "output_type": "stream",
     "text": [
      "<class 'pandas.core.frame.DataFrame'>\n",
      "Int64Index: 700 entries, 0 to 849\n",
      "Data columns (total 9 columns):\n",
      " #   Column           Non-Null Count  Dtype  \n",
      "---  ------           --------------  -----  \n",
      " 0   Customer Id      700 non-null    int64  \n",
      " 1   Age              700 non-null    int64  \n",
      " 2   Edu              700 non-null    int64  \n",
      " 3   Years Employed   700 non-null    int64  \n",
      " 4   Income           700 non-null    int64  \n",
      " 5   Card Debt        700 non-null    float64\n",
      " 6   Other Debt       700 non-null    float64\n",
      " 7   Defaulted        700 non-null    float64\n",
      " 8   DebtIncomeRatio  700 non-null    float64\n",
      "dtypes: float64(4), int64(5)\n",
      "memory usage: 54.7 KB\n"
     ]
    }
   ],
   "source": [
    "cust_df.info()"
   ]
  },
  {
   "cell_type": "code",
   "execution_count": 156,
   "id": "7206a7a8-d514-42a1-9ee7-3a1bc870f476",
   "metadata": {
    "tags": []
   },
   "outputs": [
    {
     "data": {
      "text/plain": [
       "0"
      ]
     },
     "execution_count": 156,
     "metadata": {},
     "output_type": "execute_result"
    }
   ],
   "source": [
    "cust_df['Defaulted'].isnull().sum()"
   ]
  },
  {
   "cell_type": "code",
   "execution_count": 157,
   "id": "38006177-29e6-4b30-949b-c6b5a9c9b7d4",
   "metadata": {
    "tags": []
   },
   "outputs": [
    {
     "data": {
      "text/plain": [
       "0.0    517\n",
       "1.0    183\n",
       "Name: Defaulted, dtype: int64"
      ]
     },
     "execution_count": 157,
     "metadata": {},
     "output_type": "execute_result"
    }
   ],
   "source": [
    "cust_df['Defaulted'].value_counts()"
   ]
  },
  {
   "cell_type": "code",
   "execution_count": 158,
   "id": "2d7b142e-1786-44c0-8bc3-c2fee5d49329",
   "metadata": {
    "tags": []
   },
   "outputs": [],
   "source": [
    "X = np.asanyarray(cust_df.iloc[:, 1:])"
   ]
  },
  {
   "cell_type": "code",
   "execution_count": 159,
   "id": "9612b36b-23df-4183-bf81-5f5a2d4671e1",
   "metadata": {
    "tags": []
   },
   "outputs": [
    {
     "data": {
      "text/plain": [
       "(700, 8)"
      ]
     },
     "execution_count": 159,
     "metadata": {},
     "output_type": "execute_result"
    }
   ],
   "source": [
    "X.shape"
   ]
  },
  {
   "cell_type": "code",
   "execution_count": 160,
   "id": "fb18abf2-2a56-48fb-b53e-df09b4fb1373",
   "metadata": {
    "tags": []
   },
   "outputs": [],
   "source": [
    "from sklearn.preprocessing import StandardScaler\n",
    "sc = StandardScaler()\n",
    "X = sc.fit_transform(X)"
   ]
  },
  {
   "cell_type": "code",
   "execution_count": 161,
   "id": "6b178587-8dc9-4b7f-9aba-c3d802c7b60a",
   "metadata": {
    "tags": []
   },
   "outputs": [
    {
     "data": {
      "text/plain": [
       "array([[ 0.76830405,  0.29879269, -0.35900652, ..., -0.60428433,\n",
       "        -0.59494973, -0.58052847],\n",
       "       [ 1.51908977, -0.77932527,  2.64702891, ...,  1.5706204 ,\n",
       "        -0.59494973,  0.37222169],\n",
       "       [-0.23274357,  0.29879269,  0.24220057, ...,  0.83520125,\n",
       "         1.68081427,  1.55949495],\n",
       "       ...,\n",
       "       [-1.2337912 ,  2.45502862, -1.26081715, ...,  0.04620852,\n",
       "         1.68081427,  3.39170678],\n",
       "       [-0.35787453, -0.77932527,  0.54280411, ..., -0.71904138,\n",
       "        -0.59494973, -1.07889008],\n",
       "       [ 2.14474454, -0.77932527,  1.1440112 , ...,  0.17648972,\n",
       "        -0.59494973, -0.24340149]])"
      ]
     },
     "execution_count": 161,
     "metadata": {},
     "output_type": "execute_result"
    }
   ],
   "source": [
    "X"
   ]
  },
  {
   "cell_type": "code",
   "execution_count": 162,
   "id": "24aed2a0-3a0b-4688-9c28-c379c862dc5f",
   "metadata": {
    "tags": []
   },
   "outputs": [],
   "source": [
    "from sklearn.cluster import KMeans\n",
    "k_means2 = KMeans(init = 'k-means++' , n_clusters = 3 , n_init = 12)\n"
   ]
  },
  {
   "cell_type": "code",
   "execution_count": 163,
   "id": "14cd04a9-796c-4a92-840f-9b2da64cb2c1",
   "metadata": {
    "tags": []
   },
   "outputs": [
    {
     "data": {
      "text/plain": [
       "array([[ 0.76830405,  0.29879269, -0.35900652, ..., -0.60428433,\n",
       "        -0.59494973, -0.58052847],\n",
       "       [ 1.51908977, -0.77932527,  2.64702891, ...,  1.5706204 ,\n",
       "        -0.59494973,  0.37222169],\n",
       "       [-0.23274357,  0.29879269,  0.24220057, ...,  0.83520125,\n",
       "         1.68081427,  1.55949495],\n",
       "       ...,\n",
       "       [-1.2337912 ,  2.45502862, -1.26081715, ...,  0.04620852,\n",
       "         1.68081427,  3.39170678],\n",
       "       [-0.35787453, -0.77932527,  0.54280411, ..., -0.71904138,\n",
       "        -0.59494973, -1.07889008],\n",
       "       [ 2.14474454, -0.77932527,  1.1440112 , ...,  0.17648972,\n",
       "        -0.59494973, -0.24340149]])"
      ]
     },
     "execution_count": 163,
     "metadata": {},
     "output_type": "execute_result"
    }
   ],
   "source": [
    "X"
   ]
  },
  {
   "cell_type": "code",
   "execution_count": 164,
   "id": "00399445-9447-4ffc-a78c-3eeba83176e5",
   "metadata": {
    "tags": []
   },
   "outputs": [
    {
     "data": {
      "text/plain": [
       "KMeans(algorithm='auto', copy_x=True, init='k-means++', max_iter=300,\n",
       "    n_clusters=3, n_init=12, n_jobs=None, precompute_distances='auto',\n",
       "    random_state=None, tol=0.0001, verbose=0)"
      ]
     },
     "execution_count": 164,
     "metadata": {},
     "output_type": "execute_result"
    }
   ],
   "source": [
    "k_means2.fit(X)"
   ]
  },
  {
   "cell_type": "code",
   "execution_count": 165,
   "id": "92c4422e-6b98-41cf-bbc4-8b4a644496c5",
   "metadata": {
    "tags": []
   },
   "outputs": [
    {
     "data": {
      "text/plain": [
       "array([0, 1, 2, 0, 1, 0, 0, 1, 2, 0, 2, 0, 0, 0, 0, 2, 1, 1, 0, 0, 0, 0,\n",
       "       1, 2, 0, 2, 2, 0, 2, 1, 2, 1, 0, 0, 0, 1, 1, 2, 2, 2, 2, 0, 0, 0,\n",
       "       1, 0, 1, 1, 0, 0, 0, 2, 0, 2, 0, 0, 0, 0, 0, 0, 0, 1, 0, 2, 1, 1,\n",
       "       2, 2, 0, 0, 2, 2, 0, 0, 2, 0, 2, 0, 2, 2, 1, 0, 0, 0, 0, 2, 0, 2,\n",
       "       0, 0, 1, 0, 0, 0, 0, 0, 0, 0, 0, 0, 0, 0, 0, 0, 0, 0, 0, 0, 2, 2,\n",
       "       0, 0, 0, 1, 0, 2, 0, 0, 0, 2, 0, 0, 1, 2, 2, 1, 0, 0, 0, 0, 0, 0,\n",
       "       0, 0, 1, 0, 0, 2, 0, 2, 0, 0, 2, 1, 2, 0, 0, 1, 2, 1, 0, 0, 1, 2,\n",
       "       0, 0, 1, 1, 0, 1, 2, 0, 2, 0, 1, 0, 2, 0, 0, 0, 2, 2, 0, 2, 1, 0,\n",
       "       0, 0, 0, 1, 0, 2, 1, 0, 0, 0, 1, 0, 2, 1, 0, 0, 0, 0, 0, 1, 0, 0,\n",
       "       0, 0, 0, 1, 2, 0, 2, 0, 0, 0, 2, 1, 2, 1, 0, 0, 2, 0, 0, 2, 2, 2,\n",
       "       0, 0, 0, 0, 1, 1, 0, 0, 1, 0, 0, 2, 0, 0, 2, 0, 2, 1, 0, 0, 0, 0,\n",
       "       2, 0, 1, 2, 0, 0, 0, 0, 0, 2, 2, 1, 0, 1, 0, 0, 2, 2, 0, 0, 0, 1,\n",
       "       2, 0, 0, 2, 0, 1, 0, 0, 0, 2, 1, 0, 0, 0, 0, 0, 1, 0, 0, 0, 0, 0,\n",
       "       1, 0, 0, 1, 2, 0, 2, 0, 0, 0, 1, 1, 0, 2, 0, 1, 2, 2, 0, 0, 2, 0,\n",
       "       0, 0, 0, 1, 0, 1, 0, 0, 0, 0, 1, 0, 2, 0, 1, 0, 0, 0, 2, 0, 0, 1,\n",
       "       2, 1, 0, 0, 0, 2, 2, 0, 2, 1, 0, 1, 0, 1, 0, 2, 0, 0, 1, 2, 0, 1,\n",
       "       0, 0, 0, 1, 0, 0, 0, 0, 1, 2, 0, 0, 0, 0, 1, 2, 0, 0, 1, 0, 2, 0,\n",
       "       1, 0, 1, 0, 0, 0, 0, 0, 0, 0, 1, 1, 0, 1, 0, 2, 0, 0, 0, 2, 2, 0,\n",
       "       0, 0, 0, 0, 1, 2, 2, 0, 1, 0, 0, 0, 2, 1, 2, 2, 2, 2, 0, 0, 2, 0,\n",
       "       2, 2, 0, 2, 1, 0, 2, 0, 2, 1, 1, 0, 2, 0, 2, 2, 2, 0, 0, 1, 0, 2,\n",
       "       0, 0, 2, 0, 2, 0, 0, 0, 2, 0, 1, 0, 1, 0, 1, 0, 2, 0, 0, 0, 2, 2,\n",
       "       0, 0, 1, 0, 0, 1, 0, 2, 0, 2, 0, 2, 2, 2, 1, 2, 0, 0, 2, 0, 0, 0,\n",
       "       1, 2, 2, 0, 0, 0, 0, 0, 2, 1, 0, 1, 0, 2, 0, 0, 2, 0, 0, 2, 2, 2,\n",
       "       2, 0, 1, 2, 2, 0, 0, 0, 0, 1, 2, 0, 0, 0, 1, 0, 1, 0, 0, 1, 2, 1,\n",
       "       1, 2, 0, 0, 2, 0, 1, 1, 0, 1, 1, 0, 0, 1, 0, 0, 0, 0, 0, 2, 0, 0,\n",
       "       1, 0, 0, 1, 0, 0, 0, 0, 0, 2, 0, 0, 2, 0, 0, 0, 0, 2, 0, 1, 0, 1,\n",
       "       0, 0, 2, 0, 2, 0, 2, 2, 0, 0, 1, 2, 1, 0, 1, 1, 0, 2, 0, 1, 0, 1,\n",
       "       0, 0, 0, 1, 0, 2, 0, 1, 1, 0, 0, 0, 0, 0, 0, 0, 0, 2, 0, 0, 1, 0,\n",
       "       0, 0, 0, 2, 0, 0, 0, 2, 1, 1, 0, 0, 0, 2, 0, 0, 0, 2, 2, 0, 2, 0,\n",
       "       0, 0, 0, 0, 0, 0, 0, 0, 1, 0, 0, 0, 0, 0, 1, 2, 2, 0, 2, 0, 0, 0,\n",
       "       1, 2, 0, 0, 0, 0, 1, 2, 0, 2, 0, 0, 2, 0, 0, 0, 2, 2, 1, 0, 0, 0,\n",
       "       2, 0, 0, 0, 0, 0, 0, 0, 0, 0, 0, 0, 0, 0, 0, 2, 0, 1], dtype=int32)"
      ]
     },
     "execution_count": 165,
     "metadata": {},
     "output_type": "execute_result"
    }
   ],
   "source": [
    "k_means2.labels_"
   ]
  },
  {
   "cell_type": "code",
   "execution_count": 166,
   "id": "080d4512-8e05-4573-bf6e-d70f276a3d0d",
   "metadata": {
    "tags": []
   },
   "outputs": [],
   "source": [
    "labels = k_means2.labels_"
   ]
  },
  {
   "cell_type": "code",
   "execution_count": 167,
   "id": "1f93c2b6-3ed5-45b7-b29a-955146e23d28",
   "metadata": {
    "tags": []
   },
   "outputs": [],
   "source": [
    "labels_set = np.unique(labels)"
   ]
  },
  {
   "cell_type": "code",
   "execution_count": 168,
   "id": "c8f271bb-b688-4d58-967a-93ebf1aef1fd",
   "metadata": {
    "tags": []
   },
   "outputs": [
    {
     "data": {
      "text/plain": [
       "array([0, 1, 2], dtype=int32)"
      ]
     },
     "execution_count": 168,
     "metadata": {},
     "output_type": "execute_result"
    }
   ],
   "source": [
    "labels_set"
   ]
  },
  {
   "cell_type": "code",
   "execution_count": 169,
   "id": "0927103d-4bb0-4f00-ab4a-61bfae9c7eba",
   "metadata": {
    "tags": []
   },
   "outputs": [],
   "source": [
    "centroids = k_means2.cluster_centers_"
   ]
  },
  {
   "cell_type": "code",
   "execution_count": 170,
   "id": "18e528af-788d-4574-a3a1-b46976f8575f",
   "metadata": {
    "tags": []
   },
   "outputs": [
    {
     "data": {
      "text/plain": [
       "array([[-0.14176672, -0.130892  , -0.11177099, -0.25429683, -0.36179336,\n",
       "        -0.39860131, -0.59494973, -0.39263382],\n",
       "       [ 1.03258063,  0.25566797,  1.279884  ,  1.3714983 ,  1.23805414,\n",
       "         1.446919  , -0.12159082,  0.60651028],\n",
       "       [-0.43715004,  0.13807946, -0.70628763, -0.41092174, -0.03089638,\n",
       "        -0.09840952,  1.62427355,  0.53873674]])"
      ]
     },
     "execution_count": 170,
     "metadata": {},
     "output_type": "execute_result"
    }
   ],
   "source": [
    "centroids"
   ]
  },
  {
   "cell_type": "code",
   "execution_count": 171,
   "id": "b697c5e0-c77d-4828-bd5f-0f17a4f74ebf",
   "metadata": {
    "tags": []
   },
   "outputs": [
    {
     "data": {
      "text/plain": [
       "700"
      ]
     },
     "execution_count": 171,
     "metadata": {},
     "output_type": "execute_result"
    }
   ],
   "source": [
    "labels.size"
   ]
  },
  {
   "cell_type": "code",
   "execution_count": 172,
   "id": "ec811d1f-a55a-4215-bd1b-0b902bc61714",
   "metadata": {
    "tags": []
   },
   "outputs": [],
   "source": [
    "cust_df['labels_add'] = labels"
   ]
  },
  {
   "cell_type": "code",
   "execution_count": 173,
   "id": "f427e51e-130c-4555-ac27-f7474aa158d2",
   "metadata": {
    "tags": []
   },
   "outputs": [
    {
     "name": "stdout",
     "output_type": "stream",
     "text": [
      "<class 'pandas.core.frame.DataFrame'>\n",
      "Int64Index: 700 entries, 0 to 849\n",
      "Data columns (total 10 columns):\n",
      " #   Column           Non-Null Count  Dtype  \n",
      "---  ------           --------------  -----  \n",
      " 0   Customer Id      700 non-null    int64  \n",
      " 1   Age              700 non-null    int64  \n",
      " 2   Edu              700 non-null    int64  \n",
      " 3   Years Employed   700 non-null    int64  \n",
      " 4   Income           700 non-null    int64  \n",
      " 5   Card Debt        700 non-null    float64\n",
      " 6   Other Debt       700 non-null    float64\n",
      " 7   Defaulted        700 non-null    float64\n",
      " 8   DebtIncomeRatio  700 non-null    float64\n",
      " 9   labels_add       700 non-null    int32  \n",
      "dtypes: float64(4), int32(1), int64(5)\n",
      "memory usage: 57.4 KB\n"
     ]
    }
   ],
   "source": [
    "cust_df.info()"
   ]
  },
  {
   "cell_type": "code",
   "execution_count": 174,
   "id": "b650bbea-2675-41c3-b677-c82d6cd60d52",
   "metadata": {
    "tags": []
   },
   "outputs": [],
   "source": [
    "centers = cust_df.groupby(['labels_add']).mean()"
   ]
  },
  {
   "cell_type": "code",
   "execution_count": 175,
   "id": "b87e7185-c6f0-4a74-93b9-72d67715662b",
   "metadata": {
    "tags": []
   },
   "outputs": [
    {
     "data": {
      "text/html": [
       "<div>\n",
       "<style scoped>\n",
       "    .dataframe tbody tr th:only-of-type {\n",
       "        vertical-align: middle;\n",
       "    }\n",
       "\n",
       "    .dataframe tbody tr th {\n",
       "        vertical-align: top;\n",
       "    }\n",
       "\n",
       "    .dataframe thead th {\n",
       "        text-align: right;\n",
       "    }\n",
       "</style>\n",
       "<table border=\"1\" class=\"dataframe\">\n",
       "  <thead>\n",
       "    <tr style=\"text-align: right;\">\n",
       "      <th></th>\n",
       "      <th>Customer Id</th>\n",
       "      <th>Age</th>\n",
       "      <th>Edu</th>\n",
       "      <th>Years Employed</th>\n",
       "      <th>Income</th>\n",
       "      <th>Card Debt</th>\n",
       "      <th>Other Debt</th>\n",
       "      <th>Defaulted</th>\n",
       "      <th>DebtIncomeRatio</th>\n",
       "    </tr>\n",
       "    <tr>\n",
       "      <th>labels_add</th>\n",
       "      <th></th>\n",
       "      <th></th>\n",
       "      <th></th>\n",
       "      <th></th>\n",
       "      <th></th>\n",
       "      <th></th>\n",
       "      <th></th>\n",
       "      <th></th>\n",
       "      <th></th>\n",
       "    </tr>\n",
       "  </thead>\n",
       "  <tbody>\n",
       "    <tr>\n",
       "      <th>0</th>\n",
       "      <td>438.731884</td>\n",
       "      <td>33.727053</td>\n",
       "      <td>1.601449</td>\n",
       "      <td>7.644928</td>\n",
       "      <td>36.246377</td>\n",
       "      <td>0.788126</td>\n",
       "      <td>1.748710</td>\n",
       "      <td>0.000000</td>\n",
       "      <td>7.581884</td>\n",
       "    </tr>\n",
       "    <tr>\n",
       "      <th>1</th>\n",
       "      <td>416.848000</td>\n",
       "      <td>43.112000</td>\n",
       "      <td>1.960000</td>\n",
       "      <td>16.904000</td>\n",
       "      <td>96.056000</td>\n",
       "      <td>4.172896</td>\n",
       "      <td>7.811616</td>\n",
       "      <td>0.208000</td>\n",
       "      <td>14.398400</td>\n",
       "    </tr>\n",
       "    <tr>\n",
       "      <th>2</th>\n",
       "      <td>419.763975</td>\n",
       "      <td>31.366460</td>\n",
       "      <td>1.850932</td>\n",
       "      <td>3.689441</td>\n",
       "      <td>30.484472</td>\n",
       "      <td>1.488199</td>\n",
       "      <td>2.734901</td>\n",
       "      <td>0.975155</td>\n",
       "      <td>13.936025</td>\n",
       "    </tr>\n",
       "  </tbody>\n",
       "</table>\n",
       "</div>"
      ],
      "text/plain": [
       "            Customer Id        Age       Edu  Years Employed     Income  \\\n",
       "labels_add                                                                \n",
       "0            438.731884  33.727053  1.601449        7.644928  36.246377   \n",
       "1            416.848000  43.112000  1.960000       16.904000  96.056000   \n",
       "2            419.763975  31.366460  1.850932        3.689441  30.484472   \n",
       "\n",
       "            Card Debt  Other Debt  Defaulted  DebtIncomeRatio  \n",
       "labels_add                                                     \n",
       "0            0.788126    1.748710   0.000000         7.581884  \n",
       "1            4.172896    7.811616   0.208000        14.398400  \n",
       "2            1.488199    2.734901   0.975155        13.936025  "
      ]
     },
     "execution_count": 175,
     "metadata": {},
     "output_type": "execute_result"
    }
   ],
   "source": [
    "centers"
   ]
  },
  {
   "cell_type": "code",
   "execution_count": 176,
   "id": "6dfc36fd-703b-4607-9a7f-dc965e50e558",
   "metadata": {
    "tags": []
   },
   "outputs": [],
   "source": [
    "centers_2 = sc.inverse_transform(centroids)"
   ]
  },
  {
   "cell_type": "code",
   "execution_count": 177,
   "id": "16530097-8dc4-4680-a4d9-f8c6c56f48e4",
   "metadata": {
    "tags": []
   },
   "outputs": [
    {
     "name": "stdout",
     "output_type": "stream",
     "text": [
      "[[ 3.37270531e+01  1.60144928e+00  7.64492754e+00  3.62463768e+01\n",
      "   7.88125604e-01  1.74871014e+00 -2.27595720e-15  7.58188406e+00]\n",
      " [ 4.31120000e+01  1.96000000e+00  1.69040000e+01  9.60560000e+01\n",
      "   4.17289600e+00  7.81161600e+00  2.08000000e-01  1.43984000e+01]\n",
      " [ 3.13664596e+01  1.85093168e+00  3.68944099e+00  3.04844720e+01\n",
      "   1.48819876e+00  2.73490062e+00  9.75155280e-01  1.39360248e+01]]\n"
     ]
    }
   ],
   "source": [
    "print(centers_2)"
   ]
  },
  {
   "cell_type": "code",
   "execution_count": 178,
   "id": "65cfbb4b-5806-4cfb-abe9-49b91281b401",
   "metadata": {
    "tags": []
   },
   "outputs": [
    {
     "data": {
      "text/plain": [
       "(700, 8)"
      ]
     },
     "execution_count": 178,
     "metadata": {},
     "output_type": "execute_result"
    }
   ],
   "source": [
    "X.shape"
   ]
  },
  {
   "cell_type": "code",
   "execution_count": 183,
   "id": "1e490002-1f3b-4116-9fc7-a62aa8220b24",
   "metadata": {
    "tags": []
   },
   "outputs": [
    {
     "data": {
      "text/plain": [
       "[]"
      ]
     },
     "execution_count": 183,
     "metadata": {},
     "output_type": "execute_result"
    },
    {
     "data": {
      "image/png": "[encoded data removed]",
      "text/plain": [
       "<Figure size 640x480 with 1 Axes>"
      ]
     },
     "metadata": {},
     "output_type": "display_data"
    }
   ],
   "source": [
    "area = np.pi*X[:, 1]**2\n",
    "plt.scatter(X[:, 0], X[:, 3], s = area , c = labels.astype(float), alpha = 0.4)\n",
    "plt.plot()\n",
    "\n",
    "\n",
    "\n"
   ]
  },
  {
   "cell_type": "code",
   "execution_count": null,
   "id": "6245f4f8-bd1e-4b54-9bca-1a88cd6a7ec0",
   "metadata": {},
   "outputs": [],
   "source": []
  }
 ],
 "metadata": {
  "kernelspec": {
   "display_name": "Python",
   "language": "python",
   "name": "conda-env-python-py"
  },
  "language_info": {
   "codemirror_mode": {
    "name": "ipython",
    "version": 3
   },
   "file_extension": ".py",
   "mimetype": "text/x-python",
   "name": "python",
   "nbconvert_exporter": "python",
   "pygments_lexer": "ipython3",
   "version": "3.7.12"
  }
 },
 "nbformat": 4,
 "nbformat_minor": 5
}
