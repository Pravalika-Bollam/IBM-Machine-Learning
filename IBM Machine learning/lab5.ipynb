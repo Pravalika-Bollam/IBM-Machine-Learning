{
 "cells": [
  {
   "cell_type": "code",
   "execution_count": 23,
   "id": "3456f4b6-a8c6-4bfa-8556-84b00b26e3e4",
   "metadata": {
    "tags": []
   },
   "outputs": [],
   "source": [
    "import numpy as np\n",
    "import pandas as pd\n",
    "import matplotlib.pyplot as plt\n",
    "%matplotlib inline\n"
   ]
  },
  {
   "cell_type": "code",
   "execution_count": 24,
   "id": "191eed14-125d-4090-9e4e-480883a05482",
   "metadata": {
    "tags": []
   },
   "outputs": [
    {
     "name": "stdout",
     "output_type": "stream",
     "text": [
      "--2023-10-18 18:24:08--  https://cf-courses-data.s3.us.cloud-object-storage.appdomain.cloud/IBMDeveloperSkillsNetwork-ML0101EN-SkillsNetwork/labs/Module%203/data/teleCust1000t.csv\n",
      "Resolving cf-courses-data.s3.us.cloud-object-storage.appdomain.cloud (cf-courses-data.s3.us.cloud-object-storage.appdomain.cloud)... 169.63.118.104\n",
      "Connecting to cf-courses-data.s3.us.cloud-object-storage.appdomain.cloud (cf-courses-data.s3.us.cloud-object-storage.appdomain.cloud)|169.63.118.104|:443... connected.\n",
      "HTTP request sent, awaiting response... 200 OK\n",
      "Length: 36047 (35K) [text/csv]\n",
      "Saving to: ‘Cust.csv’\n",
      "\n",
      "Cust.csv            100%[===================>]  35.20K  --.-KB/s    in 0.001s  \n",
      "\n",
      "2023-10-18 18:24:09 (28.9 MB/s) - ‘Cust.csv’ saved [36047/36047]\n",
      "\n"
     ]
    }
   ],
   "source": [
    "!wget -O Cust.csv https://cf-courses-data.s3.us.cloud-object-storage.appdomain.cloud/IBMDeveloperSkillsNetwork-ML0101EN-SkillsNetwork/labs/Module%203/data/teleCust1000t.csv"
   ]
  },
  {
   "cell_type": "code",
   "execution_count": 25,
   "id": "854513e4-cdaf-4537-ac54-5f9fb128235b",
   "metadata": {
    "tags": []
   },
   "outputs": [],
   "source": [
    "df = pd.read_csv('Cust.csv')"
   ]
  },
  {
   "cell_type": "code",
   "execution_count": 26,
   "id": "a50c6df5-22c5-4df9-8076-a1a9708561aa",
   "metadata": {
    "tags": []
   },
   "outputs": [
    {
     "data": {
      "text/html": [
       "<div>\n",
       "<style scoped>\n",
       "    .dataframe tbody tr th:only-of-type {\n",
       "        vertical-align: middle;\n",
       "    }\n",
       "\n",
       "    .dataframe tbody tr th {\n",
       "        vertical-align: top;\n",
       "    }\n",
       "\n",
       "    .dataframe thead th {\n",
       "        text-align: right;\n",
       "    }\n",
       "</style>\n",
       "<table border=\"1\" class=\"dataframe\">\n",
       "  <thead>\n",
       "    <tr style=\"text-align: right;\">\n",
       "      <th></th>\n",
       "      <th>region</th>\n",
       "      <th>tenure</th>\n",
       "      <th>age</th>\n",
       "      <th>marital</th>\n",
       "      <th>address</th>\n",
       "      <th>income</th>\n",
       "      <th>ed</th>\n",
       "      <th>employ</th>\n",
       "      <th>retire</th>\n",
       "      <th>gender</th>\n",
       "      <th>reside</th>\n",
       "      <th>custcat</th>\n",
       "    </tr>\n",
       "  </thead>\n",
       "  <tbody>\n",
       "    <tr>\n",
       "      <th>0</th>\n",
       "      <td>2</td>\n",
       "      <td>13</td>\n",
       "      <td>44</td>\n",
       "      <td>1</td>\n",
       "      <td>9</td>\n",
       "      <td>64.0</td>\n",
       "      <td>4</td>\n",
       "      <td>5</td>\n",
       "      <td>0.0</td>\n",
       "      <td>0</td>\n",
       "      <td>2</td>\n",
       "      <td>1</td>\n",
       "    </tr>\n",
       "    <tr>\n",
       "      <th>1</th>\n",
       "      <td>3</td>\n",
       "      <td>11</td>\n",
       "      <td>33</td>\n",
       "      <td>1</td>\n",
       "      <td>7</td>\n",
       "      <td>136.0</td>\n",
       "      <td>5</td>\n",
       "      <td>5</td>\n",
       "      <td>0.0</td>\n",
       "      <td>0</td>\n",
       "      <td>6</td>\n",
       "      <td>4</td>\n",
       "    </tr>\n",
       "    <tr>\n",
       "      <th>2</th>\n",
       "      <td>3</td>\n",
       "      <td>68</td>\n",
       "      <td>52</td>\n",
       "      <td>1</td>\n",
       "      <td>24</td>\n",
       "      <td>116.0</td>\n",
       "      <td>1</td>\n",
       "      <td>29</td>\n",
       "      <td>0.0</td>\n",
       "      <td>1</td>\n",
       "      <td>2</td>\n",
       "      <td>3</td>\n",
       "    </tr>\n",
       "    <tr>\n",
       "      <th>3</th>\n",
       "      <td>2</td>\n",
       "      <td>33</td>\n",
       "      <td>33</td>\n",
       "      <td>0</td>\n",
       "      <td>12</td>\n",
       "      <td>33.0</td>\n",
       "      <td>2</td>\n",
       "      <td>0</td>\n",
       "      <td>0.0</td>\n",
       "      <td>1</td>\n",
       "      <td>1</td>\n",
       "      <td>1</td>\n",
       "    </tr>\n",
       "    <tr>\n",
       "      <th>4</th>\n",
       "      <td>2</td>\n",
       "      <td>23</td>\n",
       "      <td>30</td>\n",
       "      <td>1</td>\n",
       "      <td>9</td>\n",
       "      <td>30.0</td>\n",
       "      <td>1</td>\n",
       "      <td>2</td>\n",
       "      <td>0.0</td>\n",
       "      <td>0</td>\n",
       "      <td>4</td>\n",
       "      <td>3</td>\n",
       "    </tr>\n",
       "  </tbody>\n",
       "</table>\n",
       "</div>"
      ],
      "text/plain": [
       "   region  tenure  age  marital  address  income  ed  employ  retire  gender  \\\n",
       "0       2      13   44        1        9    64.0   4       5     0.0       0   \n",
       "1       3      11   33        1        7   136.0   5       5     0.0       0   \n",
       "2       3      68   52        1       24   116.0   1      29     0.0       1   \n",
       "3       2      33   33        0       12    33.0   2       0     0.0       1   \n",
       "4       2      23   30        1        9    30.0   1       2     0.0       0   \n",
       "\n",
       "   reside  custcat  \n",
       "0       2        1  \n",
       "1       6        4  \n",
       "2       2        3  \n",
       "3       1        1  \n",
       "4       4        3  "
      ]
     },
     "execution_count": 26,
     "metadata": {},
     "output_type": "execute_result"
    }
   ],
   "source": [
    "df.head()"
   ]
  },
  {
   "cell_type": "code",
   "execution_count": 27,
   "id": "7d89e61f-75f8-480a-88d0-cb25ae14dfbc",
   "metadata": {
    "tags": []
   },
   "outputs": [
    {
     "data": {
      "text/plain": [
       "3    281\n",
       "1    266\n",
       "4    236\n",
       "2    217\n",
       "Name: custcat, dtype: int64"
      ]
     },
     "execution_count": 27,
     "metadata": {},
     "output_type": "execute_result"
    }
   ],
   "source": [
    "df['custcat'].value_counts()"
   ]
  },
  {
   "cell_type": "code",
   "execution_count": 28,
   "id": "c2c69481-3970-4750-8a9b-231d0ea3cfe7",
   "metadata": {
    "tags": []
   },
   "outputs": [
    {
     "data": {
      "text/plain": [
       "[]"
      ]
     },
     "execution_count": 28,
     "metadata": {},
     "output_type": "execute_result"
    },
    {
     "data": {
      "image/png": "[encoded data removed]",
      "text/plain": [
       "<Figure size 640x480 with 1 Axes>"
      ]
     },
     "metadata": {},
     "output_type": "display_data"
    }
   ],
   "source": [
    "df.hist('income', bins = 50)\n",
    "plt.plot()"
   ]
  },
  {
   "cell_type": "code",
   "execution_count": 29,
   "id": "b4ad4eb0-62bf-4dff-abec-94aac8a27a7a",
   "metadata": {
    "tags": []
   },
   "outputs": [],
   "source": [
    "x = df.iloc[:, :-1].values\n",
    "y = df.iloc[:, -1].values"
   ]
  },
  {
   "cell_type": "code",
   "execution_count": 30,
   "id": "2404879e-dc51-4f41-b8dd-717f6268be94",
   "metadata": {
    "tags": []
   },
   "outputs": [
    {
     "data": {
      "text/plain": [
       "((1000, 11), (1000,))"
      ]
     },
     "execution_count": 30,
     "metadata": {},
     "output_type": "execute_result"
    }
   ],
   "source": [
    "x.shape, y.shape"
   ]
  },
  {
   "cell_type": "code",
   "execution_count": 31,
   "id": "4e32e2c3-2dd5-4121-96d3-c466cb141a7b",
   "metadata": {
    "tags": []
   },
   "outputs": [
    {
     "data": {
      "text/plain": [
       "numpy.ndarray"
      ]
     },
     "execution_count": 31,
     "metadata": {},
     "output_type": "execute_result"
    }
   ],
   "source": [
    "type(x)"
   ]
  },
  {
   "cell_type": "code",
   "execution_count": 32,
   "id": "b2da3847-55aa-437b-a757-2fdd0356558a",
   "metadata": {
    "tags": []
   },
   "outputs": [],
   "source": [
    "from sklearn.model_selection import train_test_split\n",
    "train_x, test_x, train_y, test_y = train_test_split(x, y, test_size = 0.2, random_state = 38)"
   ]
  },
  {
   "cell_type": "code",
   "execution_count": 33,
   "id": "065e7e81-1e8b-4a74-aacf-2c637469bf93",
   "metadata": {
    "tags": []
   },
   "outputs": [
    {
     "data": {
      "text/plain": [
       "(800, 11)"
      ]
     },
     "execution_count": 33,
     "metadata": {},
     "output_type": "execute_result"
    }
   ],
   "source": [
    "train_x.shape"
   ]
  },
  {
   "cell_type": "code",
   "execution_count": 34,
   "id": "8e74c4f7-1d78-4469-8d8f-9ed387262103",
   "metadata": {
    "tags": []
   },
   "outputs": [
    {
     "data": {
      "text/plain": [
       "(800,)"
      ]
     },
     "execution_count": 34,
     "metadata": {},
     "output_type": "execute_result"
    }
   ],
   "source": [
    "train_y.shape"
   ]
  },
  {
   "cell_type": "code",
   "execution_count": 37,
   "id": "3049b35b-df33-4f82-95a5-70edc3046273",
   "metadata": {
    "tags": []
   },
   "outputs": [],
   "source": [
    "from sklearn.preprocessing import StandardScaler\n",
    "sc = StandardScaler()\n",
    "train_x = sc.fit_transform(train_x)"
   ]
  },
  {
   "cell_type": "code",
   "execution_count": 38,
   "id": "63f23d09-983f-4430-a133-ab6e7b1d9c1c",
   "metadata": {
    "tags": []
   },
   "outputs": [
    {
     "data": {
      "text/plain": [
       "array([[ 1.21942758,  1.35284371, -1.32861884, ..., -0.22021079,\n",
       "         0.97774752,  2.51208824],\n",
       "       [-0.00921482, -1.39116521, -0.92918439, ..., -0.22021079,\n",
       "         0.97774752, -0.93148714],\n",
       "       [-0.00921482,  1.5893962 ,  0.02945829, ..., -0.22021079,\n",
       "        -1.02275892, -0.24277206],\n",
       "       ...,\n",
       "       [-1.23785721, -1.34385471, -1.24873195, ..., -0.22021079,\n",
       "        -1.02275892,  1.82337316],\n",
       "       [ 1.21942758, -0.72881823, -0.0504286 , ..., -0.22021079,\n",
       "         0.97774752, -0.24277206],\n",
       "       [-1.23785721,  1.4001542 ,  0.26911896, ..., -0.22021079,\n",
       "         0.97774752, -0.24277206]])"
      ]
     },
     "execution_count": 38,
     "metadata": {},
     "output_type": "execute_result"
    }
   ],
   "source": [
    "train_x"
   ]
  },
  {
   "cell_type": "code",
   "execution_count": 40,
   "id": "173f1a7e-bbcb-4e0d-9a3f-d84ddb59ee19",
   "metadata": {
    "tags": []
   },
   "outputs": [],
   "source": [
    "from sklearn.neighbors import KNeighborsClassifier\n",
    "knn = KNeighborsClassifier(n_neighbors = 3).fit(train_x, train_y)"
   ]
  },
  {
   "cell_type": "code",
   "execution_count": 42,
   "id": "4fdcdf64-57cf-430e-bdd5-0f126e884887",
   "metadata": {
    "tags": []
   },
   "outputs": [],
   "source": [
    "train_pred = knn.predict(train_x)"
   ]
  },
  {
   "cell_type": "code",
   "execution_count": 43,
   "id": "7f4254fe-85fc-40da-8029-ff3ce0d93da6",
   "metadata": {
    "tags": []
   },
   "outputs": [
    {
     "data": {
      "text/plain": [
       "((800,), (800,))"
      ]
     },
     "execution_count": 43,
     "metadata": {},
     "output_type": "execute_result"
    }
   ],
   "source": [
    "train_pred.shape, train_y.shape"
   ]
  },
  {
   "cell_type": "code",
   "execution_count": 44,
   "id": "bba67c9d-9ddf-44e9-b98f-415a7e208b94",
   "metadata": {
    "tags": []
   },
   "outputs": [
    {
     "name": "stdout",
     "output_type": "stream",
     "text": [
      "training accuracy is :  0.56625\n"
     ]
    }
   ],
   "source": [
    "from sklearn.metrics import accuracy_score\n",
    "print(\"training accuracy is : \", accuracy_score(train_pred, train_y))"
   ]
  },
  {
   "cell_type": "code",
   "execution_count": 45,
   "id": "b869f562-aae8-45c2-b7c3-7990d75de91f",
   "metadata": {
    "tags": []
   },
   "outputs": [
    {
     "data": {
      "text/plain": [
       "array([[ 2., 15., 46., ...,  0.,  1.,  2.],\n",
       "       [ 2., 62., 46., ...,  0.,  1.,  1.],\n",
       "       [ 2.,  5., 33., ...,  0.,  1.,  1.],\n",
       "       ...,\n",
       "       [ 3., 45., 39., ...,  0.,  1.,  5.],\n",
       "       [ 3., 42., 36., ...,  0.,  0.,  3.],\n",
       "       [ 1.,  3., 55., ...,  0.,  1.,  2.]])"
      ]
     },
     "execution_count": 45,
     "metadata": {},
     "output_type": "execute_result"
    }
   ],
   "source": [
    "test_x"
   ]
  },
  {
   "cell_type": "code",
   "execution_count": 46,
   "id": "9c2917e1-c859-40c2-b2eb-9679ede9af1c",
   "metadata": {
    "tags": []
   },
   "outputs": [],
   "source": [
    "test_x = sc.transform(test_x)"
   ]
  },
  {
   "cell_type": "code",
   "execution_count": 47,
   "id": "abf0bb2a-46c6-4e27-94b4-148e9a4ea268",
   "metadata": {
    "tags": []
   },
   "outputs": [
    {
     "data": {
      "text/plain": [
       "array([[-0.00921482, -0.96537072,  0.34900585, ..., -0.22021079,\n",
       "         0.97774752, -0.24277206],\n",
       "       [-0.00921482,  1.25822271,  0.34900585, ..., -0.22021079,\n",
       "         0.97774752, -0.93148714],\n",
       "       [-0.00921482, -1.43847571, -0.68952372, ..., -0.22021079,\n",
       "         0.97774752, -0.93148714],\n",
       "       ...,\n",
       "       [ 1.21942758,  0.45394423, -0.21020238, ..., -0.22021079,\n",
       "         0.97774752,  1.82337316],\n",
       "       [ 1.21942758,  0.31201274, -0.44986305, ..., -0.22021079,\n",
       "        -1.02275892,  0.44594301],\n",
       "       [-1.23785721, -1.53309671,  1.06798787, ..., -0.22021079,\n",
       "         0.97774752, -0.24277206]])"
      ]
     },
     "execution_count": 47,
     "metadata": {},
     "output_type": "execute_result"
    }
   ],
   "source": [
    "test_x"
   ]
  },
  {
   "cell_type": "code",
   "execution_count": 48,
   "id": "3caeb1fa-57f4-4fbb-b4a1-e6a216c9ced2",
   "metadata": {
    "tags": []
   },
   "outputs": [],
   "source": [
    "test_pred = knn.predict(test_x)"
   ]
  },
  {
   "cell_type": "code",
   "execution_count": 50,
   "id": "189ab52f-73dc-47b9-a414-2856f7916b71",
   "metadata": {
    "tags": []
   },
   "outputs": [
    {
     "name": "stdout",
     "output_type": "stream",
     "text": [
      "test accuracy is :  0.255\n"
     ]
    }
   ],
   "source": [
    "print(\"test accuracy is : \", accuracy_score(test_pred, test_y))"
   ]
  },
  {
   "cell_type": "code",
   "execution_count": 53,
   "id": "c05f5018-e0b6-4a5a-9583-7fee1ce81078",
   "metadata": {
    "tags": []
   },
   "outputs": [
    {
     "data": {
      "text/plain": [
       "array([0.31 , 0.29 , 0.255, 0.305, 0.3  , 0.355, 0.335, 0.345, 0.365,\n",
       "       0.33 ])"
      ]
     },
     "execution_count": 53,
     "metadata": {},
     "output_type": "execute_result"
    }
   ],
   "source": [
    "ks = 10\n",
    "mean_acc = np.zeros(ks)\n",
    "std_acc = np.zeros(ks)\n",
    "for i in range(1, ks+1):\n",
    "    lm = KNeighborsClassifier(n_neighbors = i).fit(train_x, train_y)\n",
    "    test_pred = lm.predict(test_x)\n",
    "    mean_acc[i-1] = accuracy_score(test_pred, test_y)\n",
    "    std_acc[i-1] = \n",
    "mean_acc\n",
    "    \n",
    "    "
   ]
  },
  {
   "cell_type": "code",
   "execution_count": 56,
   "id": "702c9d49-cd37-4c7d-a353-4d22e803c8f7",
   "metadata": {
    "tags": []
   },
   "outputs": [
    {
     "data": {
      "text/plain": [
       "[<matplotlib.lines.Line2D at 0x7f1764b3e390>]"
      ]
     },
     "execution_count": 56,
     "metadata": {},
     "output_type": "execute_result"
    },
    {
     "data": {
      "image/png": "[encoded data removed]",
      "text/plain": [
       "<Figure size 640x480 with 1 Axes>"
      ]
     },
     "metadata": {},
     "output_type": "display_data"
    }
   ],
   "source": [
    "k_values = np.arange(ks)\n",
    "plt.plot(k_values,mean_acc )"
   ]
  },
  {
   "cell_type": "code",
   "execution_count": 55,
   "id": "d1711fc1-ab09-4aab-b2df-78851381449d",
   "metadata": {
    "tags": []
   },
   "outputs": [
    {
     "data": {
      "text/plain": [
       "array([ 1,  2,  3,  4,  5,  6,  7,  8,  9, 10])"
      ]
     },
     "execution_count": 55,
     "metadata": {},
     "output_type": "execute_result"
    }
   ],
   "source": [
    "np.arange(1, 11)"
   ]
  },
  {
   "cell_type": "code",
   "execution_count": null,
   "id": "7770703d-4b5a-4367-b905-c3a09eb4a90c",
   "metadata": {},
   "outputs": [],
   "source": []
  }
 ],
 "metadata": {
  "kernelspec": {
   "display_name": "Python",
   "language": "python",
   "name": "conda-env-python-py"
  },
  "language_info": {
   "codemirror_mode": {
    "name": "ipython",
    "version": 3
   },
   "file_extension": ".py",
   "mimetype": "text/x-python",
   "name": "python",
   "nbconvert_exporter": "python",
   "pygments_lexer": "ipython3",
   "version": "3.7.12"
  }
 },
 "nbformat": 4,
 "nbformat_minor": 5
}
