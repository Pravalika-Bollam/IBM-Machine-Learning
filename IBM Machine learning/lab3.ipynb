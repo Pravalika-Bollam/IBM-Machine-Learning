{
 "cells": [
  {
   "cell_type": "code",
   "execution_count": 1,
   "id": "42ca083d-187f-4c64-b686-5dc0def5516d",
   "metadata": {
    "tags": []
   },
   "outputs": [],
   "source": [
    "import matplotlib.pyplot as plt\n",
    "import pandas as pd\n",
    "import pylab as pl\n",
    "import numpy as np\n",
    "%matplotlib inline\n"
   ]
  },
  {
   "cell_type": "code",
   "execution_count": 2,
   "id": "306e00cd-8b5a-453c-8490-fd09110e9879",
   "metadata": {
    "tags": []
   },
   "outputs": [
    {
     "name": "stdout",
     "output_type": "stream",
     "text": [
      "--2023-10-18 14:32:06--  https://cf-courses-data.s3.us.cloud-object-storage.appdomain.cloud/IBMDeveloperSkillsNetwork-ML0101EN-SkillsNetwork/labs/Module%202/data/FuelConsumptionCo2.csv\n",
      "Resolving cf-courses-data.s3.us.cloud-object-storage.appdomain.cloud (cf-courses-data.s3.us.cloud-object-storage.appdomain.cloud)... 169.63.118.104\n",
      "Connecting to cf-courses-data.s3.us.cloud-object-storage.appdomain.cloud (cf-courses-data.s3.us.cloud-object-storage.appdomain.cloud)|169.63.118.104|:443... connected.\n",
      "HTTP request sent, awaiting response... 200 OK\n",
      "Length: 72629 (71K) [text/csv]\n",
      "Saving to: ‘FuelConsumption.csv’\n",
      "\n",
      "FuelConsumption.csv 100%[===================>]  70.93K  --.-KB/s    in 0.003s  \n",
      "\n",
      "2023-10-18 14:32:06 (27.2 MB/s) - ‘FuelConsumption.csv’ saved [72629/72629]\n",
      "\n"
     ]
    }
   ],
   "source": [
    "!wget -O FuelConsumption.csv https://cf-courses-data.s3.us.cloud-object-storage.appdomain.cloud/IBMDeveloperSkillsNetwork-ML0101EN-SkillsNetwork/labs/Module%202/data/FuelConsumptionCo2.csv"
   ]
  },
  {
   "cell_type": "code",
   "execution_count": 3,
   "id": "33a67fec-f6aa-42ee-b3d8-60ba4d0b2e59",
   "metadata": {
    "tags": []
   },
   "outputs": [],
   "source": [
    "df = pd.read_csv('FuelConsumption.csv')\n"
   ]
  },
  {
   "cell_type": "code",
   "execution_count": 4,
   "id": "8a768345-aece-4ea9-9d0a-85f6c9b88b67",
   "metadata": {
    "tags": []
   },
   "outputs": [
    {
     "data": {
      "text/html": [
       "<div>\n",
       "<style scoped>\n",
       "    .dataframe tbody tr th:only-of-type {\n",
       "        vertical-align: middle;\n",
       "    }\n",
       "\n",
       "    .dataframe tbody tr th {\n",
       "        vertical-align: top;\n",
       "    }\n",
       "\n",
       "    .dataframe thead th {\n",
       "        text-align: right;\n",
       "    }\n",
       "</style>\n",
       "<table border=\"1\" class=\"dataframe\">\n",
       "  <thead>\n",
       "    <tr style=\"text-align: right;\">\n",
       "      <th></th>\n",
       "      <th>MODELYEAR</th>\n",
       "      <th>MAKE</th>\n",
       "      <th>MODEL</th>\n",
       "      <th>VEHICLECLASS</th>\n",
       "      <th>ENGINESIZE</th>\n",
       "      <th>CYLINDERS</th>\n",
       "      <th>TRANSMISSION</th>\n",
       "      <th>FUELTYPE</th>\n",
       "      <th>FUELCONSUMPTION_CITY</th>\n",
       "      <th>FUELCONSUMPTION_HWY</th>\n",
       "      <th>FUELCONSUMPTION_COMB</th>\n",
       "      <th>FUELCONSUMPTION_COMB_MPG</th>\n",
       "      <th>CO2EMISSIONS</th>\n",
       "    </tr>\n",
       "  </thead>\n",
       "  <tbody>\n",
       "    <tr>\n",
       "      <th>0</th>\n",
       "      <td>2014</td>\n",
       "      <td>ACURA</td>\n",
       "      <td>ILX</td>\n",
       "      <td>COMPACT</td>\n",
       "      <td>2.0</td>\n",
       "      <td>4</td>\n",
       "      <td>AS5</td>\n",
       "      <td>Z</td>\n",
       "      <td>9.9</td>\n",
       "      <td>6.7</td>\n",
       "      <td>8.5</td>\n",
       "      <td>33</td>\n",
       "      <td>196</td>\n",
       "    </tr>\n",
       "    <tr>\n",
       "      <th>1</th>\n",
       "      <td>2014</td>\n",
       "      <td>ACURA</td>\n",
       "      <td>ILX</td>\n",
       "      <td>COMPACT</td>\n",
       "      <td>2.4</td>\n",
       "      <td>4</td>\n",
       "      <td>M6</td>\n",
       "      <td>Z</td>\n",
       "      <td>11.2</td>\n",
       "      <td>7.7</td>\n",
       "      <td>9.6</td>\n",
       "      <td>29</td>\n",
       "      <td>221</td>\n",
       "    </tr>\n",
       "    <tr>\n",
       "      <th>2</th>\n",
       "      <td>2014</td>\n",
       "      <td>ACURA</td>\n",
       "      <td>ILX HYBRID</td>\n",
       "      <td>COMPACT</td>\n",
       "      <td>1.5</td>\n",
       "      <td>4</td>\n",
       "      <td>AV7</td>\n",
       "      <td>Z</td>\n",
       "      <td>6.0</td>\n",
       "      <td>5.8</td>\n",
       "      <td>5.9</td>\n",
       "      <td>48</td>\n",
       "      <td>136</td>\n",
       "    </tr>\n",
       "    <tr>\n",
       "      <th>3</th>\n",
       "      <td>2014</td>\n",
       "      <td>ACURA</td>\n",
       "      <td>MDX 4WD</td>\n",
       "      <td>SUV - SMALL</td>\n",
       "      <td>3.5</td>\n",
       "      <td>6</td>\n",
       "      <td>AS6</td>\n",
       "      <td>Z</td>\n",
       "      <td>12.7</td>\n",
       "      <td>9.1</td>\n",
       "      <td>11.1</td>\n",
       "      <td>25</td>\n",
       "      <td>255</td>\n",
       "    </tr>\n",
       "    <tr>\n",
       "      <th>4</th>\n",
       "      <td>2014</td>\n",
       "      <td>ACURA</td>\n",
       "      <td>RDX AWD</td>\n",
       "      <td>SUV - SMALL</td>\n",
       "      <td>3.5</td>\n",
       "      <td>6</td>\n",
       "      <td>AS6</td>\n",
       "      <td>Z</td>\n",
       "      <td>12.1</td>\n",
       "      <td>8.7</td>\n",
       "      <td>10.6</td>\n",
       "      <td>27</td>\n",
       "      <td>244</td>\n",
       "    </tr>\n",
       "  </tbody>\n",
       "</table>\n",
       "</div>"
      ],
      "text/plain": [
       "   MODELYEAR   MAKE       MODEL VEHICLECLASS  ENGINESIZE  CYLINDERS  \\\n",
       "0       2014  ACURA         ILX      COMPACT         2.0          4   \n",
       "1       2014  ACURA         ILX      COMPACT         2.4          4   \n",
       "2       2014  ACURA  ILX HYBRID      COMPACT         1.5          4   \n",
       "3       2014  ACURA     MDX 4WD  SUV - SMALL         3.5          6   \n",
       "4       2014  ACURA     RDX AWD  SUV - SMALL         3.5          6   \n",
       "\n",
       "  TRANSMISSION FUELTYPE  FUELCONSUMPTION_CITY  FUELCONSUMPTION_HWY  \\\n",
       "0          AS5        Z                   9.9                  6.7   \n",
       "1           M6        Z                  11.2                  7.7   \n",
       "2          AV7        Z                   6.0                  5.8   \n",
       "3          AS6        Z                  12.7                  9.1   \n",
       "4          AS6        Z                  12.1                  8.7   \n",
       "\n",
       "   FUELCONSUMPTION_COMB  FUELCONSUMPTION_COMB_MPG  CO2EMISSIONS  \n",
       "0                   8.5                        33           196  \n",
       "1                   9.6                        29           221  \n",
       "2                   5.9                        48           136  \n",
       "3                  11.1                        25           255  \n",
       "4                  10.6                        27           244  "
      ]
     },
     "execution_count": 4,
     "metadata": {},
     "output_type": "execute_result"
    }
   ],
   "source": [
    "df.head()"
   ]
  },
  {
   "cell_type": "code",
   "execution_count": 5,
   "id": "8f9a498b-4791-422d-8fd8-f84cf4cae1ce",
   "metadata": {
    "tags": []
   },
   "outputs": [],
   "source": [
    "x = df[['ENGINESIZE']]\n",
    "y = df['CO2EMISSIONS']"
   ]
  },
  {
   "cell_type": "code",
   "execution_count": 6,
   "id": "d9cc5f77-8484-4c0e-8c0d-7f9beb611ee8",
   "metadata": {
    "tags": []
   },
   "outputs": [],
   "source": [
    "bool_array = np.random.rand(len(x))<0.8 \n"
   ]
  },
  {
   "cell_type": "code",
   "execution_count": 7,
   "id": "b75fee84-2ac1-41f8-9acc-dd3df4ae9480",
   "metadata": {
    "tags": []
   },
   "outputs": [
    {
     "data": {
      "text/plain": [
       "array([False,  True,  True, ...,  True,  True,  True])"
      ]
     },
     "execution_count": 7,
     "metadata": {},
     "output_type": "execute_result"
    }
   ],
   "source": [
    "bool_array"
   ]
  },
  {
   "cell_type": "code",
   "execution_count": 8,
   "id": "f22e12b2-9574-47ec-8560-51e76037d3dc",
   "metadata": {
    "tags": []
   },
   "outputs": [],
   "source": [
    "train_x = x[bool_array]\n",
    "train_y = y[bool_array]\n",
    "test_x = x[~bool_array]\n",
    "test_y = y[~bool_array]"
   ]
  },
  {
   "cell_type": "code",
   "execution_count": 10,
   "id": "6775c42d-e992-479d-85e2-2ccd744431b2",
   "metadata": {
    "tags": []
   },
   "outputs": [],
   "source": [
    "train_x = np.asanyarray(train_x)\n",
    "train_y = np.asanyarray(train_y)"
   ]
  },
  {
   "cell_type": "code",
   "execution_count": 12,
   "id": "4c33b4a8-c08e-4974-a403-70e672af51ed",
   "metadata": {
    "tags": []
   },
   "outputs": [],
   "source": [
    "from sklearn.preprocessing import PolynomialFeatures\n",
    "poly = PolynomialFeatures(degree = 2)\n",
    "train_x_poly = poly.fit_transform(train_x)"
   ]
  },
  {
   "cell_type": "code",
   "execution_count": 13,
   "id": "7dc5470e-c750-43dc-8f71-c1ad08b2dd7f",
   "metadata": {
    "tags": []
   },
   "outputs": [
    {
     "data": {
      "text/plain": [
       "array([[ 1.  ,  2.4 ,  5.76],\n",
       "       [ 1.  ,  1.5 ,  2.25],\n",
       "       [ 1.  ,  3.5 , 12.25],\n",
       "       ...,\n",
       "       [ 1.  ,  3.  ,  9.  ],\n",
       "       [ 1.  ,  3.2 , 10.24],\n",
       "       [ 1.  ,  3.2 , 10.24]])"
      ]
     },
     "execution_count": 13,
     "metadata": {},
     "output_type": "execute_result"
    }
   ],
   "source": [
    "train_x_poly"
   ]
  },
  {
   "cell_type": "code",
   "execution_count": 14,
   "id": "442d3188-9a9c-41d4-b17c-019fcc10f936",
   "metadata": {
    "tags": []
   },
   "outputs": [
    {
     "data": {
      "text/plain": [
       "LinearRegression(copy_X=True, fit_intercept=True, n_jobs=None,\n",
       "         normalize=False)"
      ]
     },
     "execution_count": 14,
     "metadata": {},
     "output_type": "execute_result"
    }
   ],
   "source": [
    "from sklearn.linear_model import LinearRegression\n",
    "reg = LinearRegression()\n",
    "reg.fit(train_x_poly, train_y)"
   ]
  },
  {
   "cell_type": "code",
   "execution_count": 15,
   "id": "9ae05c57-877a-4f1e-abcc-c074608a07a1",
   "metadata": {
    "tags": []
   },
   "outputs": [
    {
     "data": {
      "text/plain": [
       "array([ 0.        , 50.73549613, -1.54794467])"
      ]
     },
     "execution_count": 15,
     "metadata": {},
     "output_type": "execute_result"
    }
   ],
   "source": [
    "reg.coef_"
   ]
  },
  {
   "cell_type": "code",
   "execution_count": 16,
   "id": "115eca34-141c-49fa-9f41-b5a9f513307c",
   "metadata": {
    "tags": []
   },
   "outputs": [
    {
     "data": {
      "text/plain": [
       "106.73029332428976"
      ]
     },
     "execution_count": 16,
     "metadata": {},
     "output_type": "execute_result"
    }
   ],
   "source": [
    "reg.intercept_"
   ]
  },
  {
   "cell_type": "code",
   "execution_count": 17,
   "id": "4d16fb7b-5fad-487f-9ccf-c3a08c9ae4a3",
   "metadata": {
    "tags": []
   },
   "outputs": [],
   "source": [
    "test_x = np.asanyarray(test_x)\n",
    "test_y = np.asanyarray(test_y)"
   ]
  },
  {
   "cell_type": "code",
   "execution_count": 19,
   "id": "5f3c3234-9ac9-4b91-9fd2-83606d95be22",
   "metadata": {
    "tags": []
   },
   "outputs": [
    {
     "data": {
      "text/plain": [
       "(223, 1)"
      ]
     },
     "execution_count": 19,
     "metadata": {},
     "output_type": "execute_result"
    }
   ],
   "source": [
    "test_x.shape"
   ]
  },
  {
   "cell_type": "code",
   "execution_count": 20,
   "id": "266531ed-689f-423b-9a64-cfface1b8829",
   "metadata": {
    "tags": []
   },
   "outputs": [
    {
     "data": {
      "text/plain": [
       "(844, 1)"
      ]
     },
     "execution_count": 20,
     "metadata": {},
     "output_type": "execute_result"
    }
   ],
   "source": [
    "train_x.shape"
   ]
  },
  {
   "cell_type": "code",
   "execution_count": 21,
   "id": "0ebd44cc-84da-49d7-bdaf-67ac5008a4a8",
   "metadata": {
    "tags": []
   },
   "outputs": [],
   "source": [
    "test_x_poly = poly.transform(test_x)"
   ]
  },
  {
   "cell_type": "code",
   "execution_count": 23,
   "id": "c06571fd-d75c-457a-a942-d0c1a8b12824",
   "metadata": {
    "tags": []
   },
   "outputs": [
    {
     "data": {
      "text/plain": [
       "array([[ 1.  ,  2.  ,  4.  ],\n",
       "       [ 1.  ,  3.5 , 12.25],\n",
       "       [ 1.  ,  3.5 , 12.25],\n",
       "       [ 1.  ,  3.7 , 13.69],\n",
       "       [ 1.  ,  3.5 , 12.25]])"
      ]
     },
     "execution_count": 23,
     "metadata": {},
     "output_type": "execute_result"
    }
   ],
   "source": [
    "test_x_poly[:5]"
   ]
  },
  {
   "cell_type": "code",
   "execution_count": 24,
   "id": "836c0cad-811a-41c8-80e7-79b69109c5ec",
   "metadata": {
    "tags": []
   },
   "outputs": [
    {
     "data": {
      "text/plain": [
       "array([[ 1.  ,  2.4 ,  5.76],\n",
       "       [ 1.  ,  1.5 ,  2.25],\n",
       "       [ 1.  ,  3.5 , 12.25],\n",
       "       [ 1.  ,  3.5 , 12.25],\n",
       "       [ 1.  ,  3.7 , 13.69]])"
      ]
     },
     "execution_count": 24,
     "metadata": {},
     "output_type": "execute_result"
    }
   ],
   "source": [
    "train_x_poly[:5]"
   ]
  },
  {
   "cell_type": "code",
   "execution_count": 27,
   "id": "65724370-45a9-4fa4-8bb1-3b136be530aa",
   "metadata": {
    "tags": []
   },
   "outputs": [],
   "source": [
    "pred_y = reg.predict(test_x_poly)"
   ]
  },
  {
   "cell_type": "code",
   "execution_count": 28,
   "id": "ba99b64c-037e-4dcd-9bd0-578cee9d5d46",
   "metadata": {
    "tags": []
   },
   "outputs": [
    {
     "data": {
      "text/plain": [
       "((223,), (223,))"
      ]
     },
     "execution_count": 28,
     "metadata": {},
     "output_type": "execute_result"
    }
   ],
   "source": [
    "pred_y.shape, test_y.shape"
   ]
  },
  {
   "cell_type": "code",
   "execution_count": 30,
   "id": "f32cbcda-b5b9-49d7-9aec-11e455debb0d",
   "metadata": {
    "tags": []
   },
   "outputs": [
    {
     "data": {
      "text/plain": [
       "array([[202.00950691, 196.        ],\n",
       "       [265.3422076 , 255.        ],\n",
       "       [265.3422076 , 244.        ],\n",
       "       [273.2602665 , 267.        ],\n",
       "       [265.3422076 , 239.        ]])"
      ]
     },
     "execution_count": 30,
     "metadata": {},
     "output_type": "execute_result"
    }
   ],
   "source": [
    "np.concatenate((pred_y[:, np.newaxis], test_y[:, np.newaxis]), axis = 1)[:5]"
   ]
  },
  {
   "cell_type": "code",
   "execution_count": 32,
   "id": "b849b9dc-9221-4daf-aa01-36aed3c1ec6b",
   "metadata": {
    "tags": []
   },
   "outputs": [
    {
     "data": {
      "text/plain": [
       "0.7654055981427659"
      ]
     },
     "execution_count": 32,
     "metadata": {},
     "output_type": "execute_result"
    }
   ],
   "source": [
    "reg.score(train_x_poly, train_y)"
   ]
  },
  {
   "cell_type": "code",
   "execution_count": 34,
   "id": "3d28df78-61f5-4b2f-a423-08e95f169688",
   "metadata": {
    "tags": []
   },
   "outputs": [
    {
     "name": "stdout",
     "output_type": "stream",
     "text": [
      "r2 score 0.7052013584414396\n",
      "MSE 840.3681418036653\n"
     ]
    }
   ],
   "source": [
    "from sklearn.metrics import r2_score, mean_squared_error\n",
    "print(\"r2 score\", r2_score(pred_y, test_y))\n",
    "print(\"MSE\", mean_squared_error(pred_y, test_y))\n"
   ]
  },
  {
   "cell_type": "code",
   "execution_count": 46,
   "id": "52bfbc6c-a476-4a0b-b206-7f1563984bb3",
   "metadata": {
    "tags": []
   },
   "outputs": [
    {
     "data": {
      "text/plain": [
       "[<matplotlib.lines.Line2D at 0x7f88fb16b350>]"
      ]
     },
     "execution_count": 46,
     "metadata": {},
     "output_type": "execute_result"
    },
    {
     "data": {
      "image/png": "[encoded data removed]",
      "text/plain": [
       "<Figure size 640x480 with 1 Axes>"
      ]
     },
     "metadata": {},
     "output_type": "display_data"
    }
   ],
   "source": [
    "plt.scatter(train_x, train_y)\n",
    "create_x = np.arange(0., 10.0, 0.1).reshape(-1,1)\n",
    "create_x_poly = poly.transform(create_x)\n",
    "plt.plot(create_x,reg.predict(create_x_poly) , color = 'red')"
   ]
  },
  {
   "cell_type": "code",
   "execution_count": 40,
   "id": "3e4f2d62-2853-4b22-8028-b774a4e92b5d",
   "metadata": {
    "tags": []
   },
   "outputs": [],
   "source": [
    "ll = np.arange(0., 10.0, 0.1).reshape(-1,1)"
   ]
  },
  {
   "cell_type": "code",
   "execution_count": 37,
   "id": "378cee59-ccb4-4702-9825-350e44cc0fff",
   "metadata": {
    "tags": []
   },
   "outputs": [
    {
     "data": {
      "text/plain": [
       "(844, 1)"
      ]
     },
     "execution_count": 37,
     "metadata": {},
     "output_type": "execute_result"
    }
   ],
   "source": [
    "train_x.shape"
   ]
  },
  {
   "cell_type": "code",
   "execution_count": 44,
   "id": "86b35f28-6cfa-4958-961d-9c1f2febe3cf",
   "metadata": {
    "tags": []
   },
   "outputs": [
    {
     "data": {
      "text/plain": [
       "(100, 1)"
      ]
     },
     "execution_count": 44,
     "metadata": {},
     "output_type": "execute_result"
    }
   ],
   "source": [
    "ll.shape"
   ]
  },
  {
   "cell_type": "code",
   "execution_count": 42,
   "id": "0510ae54-f9ec-401d-957b-387bb9355264",
   "metadata": {
    "tags": []
   },
   "outputs": [],
   "source": [
    "ll2 = poly.transform(ll)"
   ]
  },
  {
   "cell_type": "code",
   "execution_count": 43,
   "id": "51448d73-5cac-4b75-a62a-477ac802d734",
   "metadata": {
    "tags": []
   },
   "outputs": [
    {
     "data": {
      "text/plain": [
       "array([[1.000e+00, 0.000e+00, 0.000e+00],\n",
       "       [1.000e+00, 1.000e-01, 1.000e-02],\n",
       "       [1.000e+00, 2.000e-01, 4.000e-02],\n",
       "       [1.000e+00, 3.000e-01, 9.000e-02],\n",
       "       [1.000e+00, 4.000e-01, 1.600e-01],\n",
       "       [1.000e+00, 5.000e-01, 2.500e-01],\n",
       "       [1.000e+00, 6.000e-01, 3.600e-01],\n",
       "       [1.000e+00, 7.000e-01, 4.900e-01],\n",
       "       [1.000e+00, 8.000e-01, 6.400e-01],\n",
       "       [1.000e+00, 9.000e-01, 8.100e-01],\n",
       "       [1.000e+00, 1.000e+00, 1.000e+00],\n",
       "       [1.000e+00, 1.100e+00, 1.210e+00],\n",
       "       [1.000e+00, 1.200e+00, 1.440e+00],\n",
       "       [1.000e+00, 1.300e+00, 1.690e+00],\n",
       "       [1.000e+00, 1.400e+00, 1.960e+00],\n",
       "       [1.000e+00, 1.500e+00, 2.250e+00],\n",
       "       [1.000e+00, 1.600e+00, 2.560e+00],\n",
       "       [1.000e+00, 1.700e+00, 2.890e+00],\n",
       "       [1.000e+00, 1.800e+00, 3.240e+00],\n",
       "       [1.000e+00, 1.900e+00, 3.610e+00],\n",
       "       [1.000e+00, 2.000e+00, 4.000e+00],\n",
       "       [1.000e+00, 2.100e+00, 4.410e+00],\n",
       "       [1.000e+00, 2.200e+00, 4.840e+00],\n",
       "       [1.000e+00, 2.300e+00, 5.290e+00],\n",
       "       [1.000e+00, 2.400e+00, 5.760e+00],\n",
       "       [1.000e+00, 2.500e+00, 6.250e+00],\n",
       "       [1.000e+00, 2.600e+00, 6.760e+00],\n",
       "       [1.000e+00, 2.700e+00, 7.290e+00],\n",
       "       [1.000e+00, 2.800e+00, 7.840e+00],\n",
       "       [1.000e+00, 2.900e+00, 8.410e+00],\n",
       "       [1.000e+00, 3.000e+00, 9.000e+00],\n",
       "       [1.000e+00, 3.100e+00, 9.610e+00],\n",
       "       [1.000e+00, 3.200e+00, 1.024e+01],\n",
       "       [1.000e+00, 3.300e+00, 1.089e+01],\n",
       "       [1.000e+00, 3.400e+00, 1.156e+01],\n",
       "       [1.000e+00, 3.500e+00, 1.225e+01],\n",
       "       [1.000e+00, 3.600e+00, 1.296e+01],\n",
       "       [1.000e+00, 3.700e+00, 1.369e+01],\n",
       "       [1.000e+00, 3.800e+00, 1.444e+01],\n",
       "       [1.000e+00, 3.900e+00, 1.521e+01],\n",
       "       [1.000e+00, 4.000e+00, 1.600e+01],\n",
       "       [1.000e+00, 4.100e+00, 1.681e+01],\n",
       "       [1.000e+00, 4.200e+00, 1.764e+01],\n",
       "       [1.000e+00, 4.300e+00, 1.849e+01],\n",
       "       [1.000e+00, 4.400e+00, 1.936e+01],\n",
       "       [1.000e+00, 4.500e+00, 2.025e+01],\n",
       "       [1.000e+00, 4.600e+00, 2.116e+01],\n",
       "       [1.000e+00, 4.700e+00, 2.209e+01],\n",
       "       [1.000e+00, 4.800e+00, 2.304e+01],\n",
       "       [1.000e+00, 4.900e+00, 2.401e+01],\n",
       "       [1.000e+00, 5.000e+00, 2.500e+01],\n",
       "       [1.000e+00, 5.100e+00, 2.601e+01],\n",
       "       [1.000e+00, 5.200e+00, 2.704e+01],\n",
       "       [1.000e+00, 5.300e+00, 2.809e+01],\n",
       "       [1.000e+00, 5.400e+00, 2.916e+01],\n",
       "       [1.000e+00, 5.500e+00, 3.025e+01],\n",
       "       [1.000e+00, 5.600e+00, 3.136e+01],\n",
       "       [1.000e+00, 5.700e+00, 3.249e+01],\n",
       "       [1.000e+00, 5.800e+00, 3.364e+01],\n",
       "       [1.000e+00, 5.900e+00, 3.481e+01],\n",
       "       [1.000e+00, 6.000e+00, 3.600e+01],\n",
       "       [1.000e+00, 6.100e+00, 3.721e+01],\n",
       "       [1.000e+00, 6.200e+00, 3.844e+01],\n",
       "       [1.000e+00, 6.300e+00, 3.969e+01],\n",
       "       [1.000e+00, 6.400e+00, 4.096e+01],\n",
       "       [1.000e+00, 6.500e+00, 4.225e+01],\n",
       "       [1.000e+00, 6.600e+00, 4.356e+01],\n",
       "       [1.000e+00, 6.700e+00, 4.489e+01],\n",
       "       [1.000e+00, 6.800e+00, 4.624e+01],\n",
       "       [1.000e+00, 6.900e+00, 4.761e+01],\n",
       "       [1.000e+00, 7.000e+00, 4.900e+01],\n",
       "       [1.000e+00, 7.100e+00, 5.041e+01],\n",
       "       [1.000e+00, 7.200e+00, 5.184e+01],\n",
       "       [1.000e+00, 7.300e+00, 5.329e+01],\n",
       "       [1.000e+00, 7.400e+00, 5.476e+01],\n",
       "       [1.000e+00, 7.500e+00, 5.625e+01],\n",
       "       [1.000e+00, 7.600e+00, 5.776e+01],\n",
       "       [1.000e+00, 7.700e+00, 5.929e+01],\n",
       "       [1.000e+00, 7.800e+00, 6.084e+01],\n",
       "       [1.000e+00, 7.900e+00, 6.241e+01],\n",
       "       [1.000e+00, 8.000e+00, 6.400e+01],\n",
       "       [1.000e+00, 8.100e+00, 6.561e+01],\n",
       "       [1.000e+00, 8.200e+00, 6.724e+01],\n",
       "       [1.000e+00, 8.300e+00, 6.889e+01],\n",
       "       [1.000e+00, 8.400e+00, 7.056e+01],\n",
       "       [1.000e+00, 8.500e+00, 7.225e+01],\n",
       "       [1.000e+00, 8.600e+00, 7.396e+01],\n",
       "       [1.000e+00, 8.700e+00, 7.569e+01],\n",
       "       [1.000e+00, 8.800e+00, 7.744e+01],\n",
       "       [1.000e+00, 8.900e+00, 7.921e+01],\n",
       "       [1.000e+00, 9.000e+00, 8.100e+01],\n",
       "       [1.000e+00, 9.100e+00, 8.281e+01],\n",
       "       [1.000e+00, 9.200e+00, 8.464e+01],\n",
       "       [1.000e+00, 9.300e+00, 8.649e+01],\n",
       "       [1.000e+00, 9.400e+00, 8.836e+01],\n",
       "       [1.000e+00, 9.500e+00, 9.025e+01],\n",
       "       [1.000e+00, 9.600e+00, 9.216e+01],\n",
       "       [1.000e+00, 9.700e+00, 9.409e+01],\n",
       "       [1.000e+00, 9.800e+00, 9.604e+01],\n",
       "       [1.000e+00, 9.900e+00, 9.801e+01]])"
      ]
     },
     "execution_count": 43,
     "metadata": {},
     "output_type": "execute_result"
    }
   ],
   "source": [
    "ll2"
   ]
  },
  {
   "cell_type": "code",
   "execution_count": null,
   "id": "6307fce0-39da-4691-ba1b-b6f94d39cabd",
   "metadata": {},
   "outputs": [],
   "source": []
  }
 ],
 "metadata": {
  "kernelspec": {
   "display_name": "Python",
   "language": "python",
   "name": "conda-env-python-py"
  },
  "language_info": {
   "codemirror_mode": {
    "name": "ipython",
    "version": 3
   },
   "file_extension": ".py",
   "mimetype": "text/x-python",
   "name": "python",
   "nbconvert_exporter": "python",
   "pygments_lexer": "ipython3",
   "version": "3.7.12"
  }
 },
 "nbformat": 4,
 "nbformat_minor": 5
}
